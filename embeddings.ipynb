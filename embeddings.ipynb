{
 "cells": [
  {
   "cell_type": "markdown",
   "metadata": {},
   "source": [
    "# Introduction\n",
    "\n",
    "This notebook uses the embeddings to create a search engine. This notebook shows how to prepare a search to understand natural language and return relevant results. In the next notebook, we will use this tto enhance the response from the large language model. "
   ]
  },
  {
   "cell_type": "code",
   "execution_count": 3,
   "metadata": {},
   "outputs": [
    {
     "name": "stderr",
     "output_type": "stream",
     "text": [
      "/Users/klvp919/.pyenv/versions/3.9.1/lib/python3.9/site-packages/sentence_transformers/cross_encoder/CrossEncoder.py:11: TqdmWarning: IProgress not found. Please update jupyter and ipywidgets. See https://ipywidgets.readthedocs.io/en/stable/user_install.html\n",
      "  from tqdm.autonotebook import tqdm, trange\n",
      "/Users/klvp919/.pyenv/versions/3.9.1/lib/python3.9/site-packages/threadpoolctl.py:1214: RuntimeWarning: \n",
      "Found Intel OpenMP ('libiomp') and LLVM OpenMP ('libomp') loaded at\n",
      "the same time. Both libraries are known to be incompatible and this\n",
      "can cause random crashes or deadlocks on Linux when loaded in the\n",
      "same Python program.\n",
      "Using threadpoolctl may cause crashes or deadlocks. For more\n",
      "information and possible workarounds, please see\n",
      "    https://github.com/joblib/threadpoolctl/blob/master/multiple_openmp.md\n",
      "\n",
      "  warnings.warn(msg, RuntimeWarning)\n"
     ]
    }
   ],
   "source": [
    "import pandas as pd \n",
    "\n",
    "## vector database search\n",
    "from qdrant_client import models, QdrantClient\n",
    "\n",
    "## vector computing framework\n",
    "from sentence_transformers import SentenceTransformer\n",
    "\n",
    "# tensor computation library\n",
    "from torch import mps"
   ]
  },
  {
   "cell_type": "markdown",
   "metadata": {},
   "source": [
    "## Data Processing\n",
    "\n",
    "Load the data and remove null values."
   ]
  },
  {
   "cell_type": "code",
   "execution_count": 4,
   "metadata": {},
   "outputs": [
    {
     "data": {
      "text/html": [
       "<div>\n",
       "<style scoped>\n",
       "    .dataframe tbody tr th:only-of-type {\n",
       "        vertical-align: middle;\n",
       "    }\n",
       "\n",
       "    .dataframe tbody tr th {\n",
       "        vertical-align: top;\n",
       "    }\n",
       "\n",
       "    .dataframe thead th {\n",
       "        text-align: right;\n",
       "    }\n",
       "</style>\n",
       "<table border=\"1\" class=\"dataframe\">\n",
       "  <thead>\n",
       "    <tr style=\"text-align: right;\">\n",
       "      <th></th>\n",
       "      <th>name</th>\n",
       "      <th>region</th>\n",
       "      <th>variety</th>\n",
       "      <th>rating</th>\n",
       "      <th>notes</th>\n",
       "    </tr>\n",
       "  </thead>\n",
       "  <tbody>\n",
       "    <tr>\n",
       "      <th>0</th>\n",
       "      <td>3 Rings Reserve Shiraz 2004</td>\n",
       "      <td>Barossa Valley, Barossa, South Australia, Aust...</td>\n",
       "      <td>Red Wine</td>\n",
       "      <td>96.0</td>\n",
       "      <td>Vintage Comments : Classic Barossa vintage con...</td>\n",
       "    </tr>\n",
       "    <tr>\n",
       "      <th>1</th>\n",
       "      <td>Abreu Vineyards Cappella 2007</td>\n",
       "      <td>Napa Valley, California</td>\n",
       "      <td>Red Wine</td>\n",
       "      <td>96.0</td>\n",
       "      <td>Cappella is a proprietary blend of two clones ...</td>\n",
       "    </tr>\n",
       "    <tr>\n",
       "      <th>2</th>\n",
       "      <td>Abreu Vineyards Cappella 2010</td>\n",
       "      <td>Napa Valley, California</td>\n",
       "      <td>Red Wine</td>\n",
       "      <td>98.0</td>\n",
       "      <td>Cappella is one of the oldest vineyard sites i...</td>\n",
       "    </tr>\n",
       "    <tr>\n",
       "      <th>3</th>\n",
       "      <td>Abreu Vineyards Howell Mountain 2008</td>\n",
       "      <td>Howell Mountain, Napa Valley, California</td>\n",
       "      <td>Red Wine</td>\n",
       "      <td>96.0</td>\n",
       "      <td>When David purchased this Howell Mountain prop...</td>\n",
       "    </tr>\n",
       "    <tr>\n",
       "      <th>4</th>\n",
       "      <td>Abreu Vineyards Howell Mountain 2009</td>\n",
       "      <td>Howell Mountain, Napa Valley, California</td>\n",
       "      <td>Red Wine</td>\n",
       "      <td>98.0</td>\n",
       "      <td>As a set of wines, it is hard to surpass the f...</td>\n",
       "    </tr>\n",
       "    <tr>\n",
       "      <th>...</th>\n",
       "      <td>...</td>\n",
       "      <td>...</td>\n",
       "      <td>...</td>\n",
       "      <td>...</td>\n",
       "      <td>...</td>\n",
       "    </tr>\n",
       "    <tr>\n",
       "      <th>1360</th>\n",
       "      <td>Lewis Cellars Alec's Blend Red 2002</td>\n",
       "      <td>Napa Valley, California</td>\n",
       "      <td>Red Wine</td>\n",
       "      <td>96.0</td>\n",
       "      <td>Number 12 on</td>\n",
       "    </tr>\n",
       "    <tr>\n",
       "      <th>1361</th>\n",
       "      <td>Lewis Cellars Cabernet Sauvignon 2002</td>\n",
       "      <td>Napa Valley, California</td>\n",
       "      <td>Red Wine</td>\n",
       "      <td>96.0</td>\n",
       "      <td>Showcasing the unique personalities of small h...</td>\n",
       "    </tr>\n",
       "    <tr>\n",
       "      <th>1362</th>\n",
       "      <td>Lewis Cellars Cuvee L Cabernet Sauvignon 2015</td>\n",
       "      <td>Napa Valley, California</td>\n",
       "      <td>Red Wine</td>\n",
       "      <td>96.0</td>\n",
       "      <td>Straight from James Fenimore Cooper’s novel, L...</td>\n",
       "    </tr>\n",
       "    <tr>\n",
       "      <th>1363</th>\n",
       "      <td>Lewis Cellars Reserve Cabernet Sauvignon 2010</td>\n",
       "      <td>Napa Valley, California</td>\n",
       "      <td>Red Wine</td>\n",
       "      <td>96.0</td>\n",
       "      <td></td>\n",
       "    </tr>\n",
       "    <tr>\n",
       "      <th>1364</th>\n",
       "      <td>Lewis Cellars Reserve Cabernet Sauvignon (scuf...</td>\n",
       "      <td>Napa Valley, California</td>\n",
       "      <td>Red Wine</td>\n",
       "      <td>96.0</td>\n",
       "      <td>The headline reads: \"2012 Reserve Cabernet - R...</td>\n",
       "    </tr>\n",
       "  </tbody>\n",
       "</table>\n",
       "<p>1347 rows × 5 columns</p>\n",
       "</div>"
      ],
      "text/plain": [
       "                                                   name  \\\n",
       "0                           3 Rings Reserve Shiraz 2004   \n",
       "1                         Abreu Vineyards Cappella 2007   \n",
       "2                         Abreu Vineyards Cappella 2010   \n",
       "3                  Abreu Vineyards Howell Mountain 2008   \n",
       "4                  Abreu Vineyards Howell Mountain 2009   \n",
       "...                                                 ...   \n",
       "1360                Lewis Cellars Alec's Blend Red 2002   \n",
       "1361              Lewis Cellars Cabernet Sauvignon 2002   \n",
       "1362      Lewis Cellars Cuvee L Cabernet Sauvignon 2015   \n",
       "1363      Lewis Cellars Reserve Cabernet Sauvignon 2010   \n",
       "1364  Lewis Cellars Reserve Cabernet Sauvignon (scuf...   \n",
       "\n",
       "                                                 region   variety  rating  \\\n",
       "0     Barossa Valley, Barossa, South Australia, Aust...  Red Wine    96.0   \n",
       "1                               Napa Valley, California  Red Wine    96.0   \n",
       "2                               Napa Valley, California  Red Wine    98.0   \n",
       "3              Howell Mountain, Napa Valley, California  Red Wine    96.0   \n",
       "4              Howell Mountain, Napa Valley, California  Red Wine    98.0   \n",
       "...                                                 ...       ...     ...   \n",
       "1360                            Napa Valley, California  Red Wine    96.0   \n",
       "1361                            Napa Valley, California  Red Wine    96.0   \n",
       "1362                            Napa Valley, California  Red Wine    96.0   \n",
       "1363                            Napa Valley, California  Red Wine    96.0   \n",
       "1364                            Napa Valley, California  Red Wine    96.0   \n",
       "\n",
       "                                                  notes  \n",
       "0     Vintage Comments : Classic Barossa vintage con...  \n",
       "1     Cappella is a proprietary blend of two clones ...  \n",
       "2     Cappella is one of the oldest vineyard sites i...  \n",
       "3     When David purchased this Howell Mountain prop...  \n",
       "4     As a set of wines, it is hard to surpass the f...  \n",
       "...                                                 ...  \n",
       "1360                                      Number 12 on   \n",
       "1361  Showcasing the unique personalities of small h...  \n",
       "1362  Straight from James Fenimore Cooper’s novel, L...  \n",
       "1363                                                     \n",
       "1364  The headline reads: \"2012 Reserve Cabernet - R...  \n",
       "\n",
       "[1347 rows x 5 columns]"
      ]
     },
     "execution_count": 4,
     "metadata": {},
     "output_type": "execute_result"
    }
   ],
   "source": [
    "df = pd.read_csv('./data/top_rated_wines.csv')\n",
    "\n",
    "## remove the empty values\n",
    "df = df[df['variety'].notna()]\n",
    "##data = df.to_dict('records')\n",
    "data = df.sample(500).to_dict('records') # work on a sample of 500 rows to run themodel faster\n",
    "df"
   ]
  },
  {
   "cell_type": "markdown",
   "metadata": {},
   "source": [
    "## Process Embeddings \n",
    "Embeddings are representation of the text data (in our case the wine csv file) as vectors in a high-dimentional space. We use embeddings to be able to complare the simarify between sentences. Vectors allow us to represent the text in matematical terms. In this notebook, I use cosine similarify that allows to compute and measure the cosine of the angle between two vectors, effectively quantifying how similar two sentences regardless of their lenght. "
   ]
  },
  {
   "cell_type": "code",
   "execution_count": 5,
   "metadata": {},
   "outputs": [],
   "source": [
    "## encode using the 'all-MiniLM-L6-v2' model. \n",
    "encoder = SentenceTransformer('all-MiniLM-L6-v2') # model: download ML model locally\n",
    "\n",
    "## database to store the vectors. Since the data is in a small size, we can store the data in memory. \n",
    "qdrant = QdrantClient(\":memory:\")"
   ]
  },
  {
   "cell_type": "code",
   "execution_count": 6,
   "metadata": {},
   "outputs": [
    {
     "name": "stderr",
     "output_type": "stream",
     "text": [
      "/var/folders/8b/2gcsk4t91d5376fgrtg103fs1c9xl6/T/ipykernel_48503/1881588423.py:5: DeprecationWarning: `recreate_collection` method is deprecated and will be removed in the future. Use `collection_exists` to check collection existence and `create_collection` instead.\n",
      "  qdrant.recreate_collection(\n"
     ]
    },
    {
     "data": {
      "text/plain": [
       "True"
      ]
     },
     "execution_count": 6,
     "metadata": {},
     "output_type": "execute_result"
    }
   ],
   "source": [
    "# create a collection that will be stored in the database. The collection stored the params \n",
    "# size: takes the size from the input data\n",
    "# distance function: cosine\n",
    "\n",
    "qdrant.recreate_collection(\n",
    "    collection_name = \"top_wines\",\n",
    "    vectors_config = models.VectorParams(\n",
    "        size = encoder.get_sentence_embedding_dimension(),\n",
    "        distance = models.Distance.COSINE\n",
    "    )\n",
    ")"
   ]
  },
  {
   "cell_type": "code",
   "execution_count": 7,
   "metadata": {},
   "outputs": [],
   "source": [
    "# creates an index and uploads all the data into the in-memory database\n",
    "# payload is the metadata \n",
    "qdrant.upload_points(\n",
    "    collection_name = \"top_wines\",\n",
    "    points = [\n",
    "        models.PointStruct(\n",
    "            id = idx,\n",
    "            vector = encoder.encode(doc['notes']).tolist(),\n",
    "            payload = doc\n",
    "        ) \n",
    "        for idx, doc in enumerate(data)\n",
    "    ]\n",
    ")"
   ]
  },
  {
   "cell_type": "markdown",
   "metadata": {},
   "source": [
    "## Search with given input text\n",
    "\n",
    "Let's search! "
   ]
  },
  {
   "cell_type": "code",
   "execution_count": 8,
   "metadata": {},
   "outputs": [
    {
     "name": "stdout",
     "output_type": "stream",
     "text": [
      "{'name': 'Bodega Colome Altura Maxima Malbec 2012', 'region': 'Salta, Argentina', 'variety': 'Red Wine', 'rating': 96.0, 'notes': 'Winemaker Thibaut Delmotte has crafted wines of distinction and international acclaim for Colome. He believes the Malbec from Altura Maxima Vineyard is the embodiment of two extremes - a traditional grape variety from his French origins made from the vineyard that challenges all convention in the modern viticultural world.'} score: 0.5610543624980235\n",
      "{'name': 'Cavallotto Barolo Riserva Bricco Boschis (chipped wax - 3L) 2001', 'region': 'Barolo, Piedmont, Italy', 'variety': 'Red Wine', 'rating': 96.0, 'notes': 'A wine of great structure but with elegance and complexity. Initially fruity with floral and spice aromas that open up. An excellent wine for aging.'} score: 0.5499794613487093\n",
      "{'name': 'Colgin Tychson Hill Vineyard Cabernet Sauvignon 2005', 'region': 'St. Helena, Napa Valley, California', 'variety': 'Red Wine', 'rating': 96.0, 'notes': 'My first impression of this wine at the time of release is how surprisingly demure it is at first. I know how much power is at the core of the wine, and so I find it fantastically seductive the way it pulls you in to explore its depths. At first it exhibits dark undertones of smoked cayenne, musk, and ripe plums, yet as it is exposed to air in the glass it slowly unfolds and expresses compelling organic aromas of peat, nutmeg, and savory grilled steak juices. The wine is incredibly soft and silky on the front of the palate, and gains an amazing amount of weight as it glides to the back. The texture is delicious and draws you back so easily with its elegant, lingering finish. Given the nature of the wines self expression at this time, I recommend 3 years of cellar age, and with that you will be handsomely rewarded. With the freshness of the acidity and the coating texture to the tannin, I anticipate a long lived bottle age of 20 or more year.'} score: 0.5496862205911546\n",
      "{'name': 'Buccella Cabernet Sauvignon 2012', 'region': 'Napa Valley, California', 'variety': 'Red Wine', 'rating': 96.0, 'notes': 'The 2012 Buccella Cabernet Sauvignon is a stunning balance between power and finesse. The wine is a lush, layered example of the best Napa Valley Cabernet Sauvignon can offer. Aromas of blackberry, cassis, and blueberry mingle with notes of molasses, bay, pastry crust, and graphite. The palate showcases a velvet texture, with supple tannins wrapped around flavors of black current, dark chocolate flavors, and a rich finish of incredible length.'} score: 0.5446030718065226\n",
      "{'name': 'Krug Grande Cuvee Brut (164th Edition) with Gift Box', 'region': 'Champagne, France', 'variety': 'Sparkling & Champagne', 'rating': 96.0, 'notes': 'This is an extraordinary blend of 127 wines from 11 different years, the oldest from 1990 and the youngest from 2008. As you taste it, notes of toasted bread, hazelnut, nougat, barley sugar and jellied fruits may take you by surprise. You may even taste hints of apples still on the tree, flowers in bloom, ripe and dried fruit, almonds, marzipan, gingerbread, sweet spices and even brioche and honey.'} score: 0.5429293033550628\n"
     ]
    }
   ],
   "source": [
    "user_prompt = \"I like Malbec wine from Spain. Which wine should I pair with my steak?\"\n",
    "hits = qdrant.search(\n",
    "    collection_name = \"top_wines\",\n",
    "    query_vector = encoder.encode(user_prompt).tolist(),\n",
    "    limit = 5\n",
    ")\n",
    "for hit in hits:\n",
    "    print(hit.payload, \"score:\", hit.score)"
   ]
  },
  {
   "cell_type": "code",
   "execution_count": 9,
   "metadata": {},
   "outputs": [],
   "source": [
    "search_result = [hit.payload for hit in hits]"
   ]
  },
  {
   "cell_type": "code",
   "execution_count": null,
   "metadata": {},
   "outputs": [],
   "source": [
    "## Connect to LLM from OpenAI \n",
    "from openai import OpenAI\n",
    "\n",
    "client = OpenAI(\n",
    "    base_url = \"http://127.0.0.1:8080/v1\",\n",
    "    api_key = \"sk_no_key_required\"\n",
    ")\n",
    "completion = client.chat.completions.create(\n",
    "    model = \"LLaMA_CPP\",\n",
    "    messages = [\n",
    "        {\"role\": \"system\", \"content\": \"You are a chatbot wine specialist.\"},\n",
    "        {\"role\": \"user\", \"content\": \"I like Malbec wine from Spain. Which wine should I pair with my steak?\"},\n",
    "        {\"role\": \"assistant\", \"content\": str(search_result)}\n",
    "    ]\n",
    ")"
   ]
  }
 ],
 "metadata": {
  "kernelspec": {
   "display_name": "Python 3",
   "language": "python",
   "name": "python3"
  },
  "language_info": {
   "codemirror_mode": {
    "name": "ipython",
    "version": 3
   },
   "file_extension": ".py",
   "mimetype": "text/x-python",
   "name": "python",
   "nbconvert_exporter": "python",
   "pygments_lexer": "ipython3",
   "version": "3.9.1"
  }
 },
 "nbformat": 4,
 "nbformat_minor": 2
}
