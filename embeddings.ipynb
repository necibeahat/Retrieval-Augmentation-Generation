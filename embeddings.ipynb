{
 "cells": [
  {
   "cell_type": "markdown",
   "metadata": {},
   "source": [
    "# Introduction\n",
    "\n",
    "This notebook uses the embeddings to create a search engine. This notebook shows how to prepare a search to understand natural language and return relevant results. In the next notebook, we will use this tto enhance the response from the large language model. "
   ]
  },
  {
   "cell_type": "code",
   "execution_count": 1,
   "metadata": {},
   "outputs": [],
   "source": [
    "import warnings\n",
    "warnings.filterwarnings(\"ignore\")"
   ]
  },
  {
   "cell_type": "code",
   "execution_count": 2,
   "metadata": {},
   "outputs": [],
   "source": [
    "# Import basic computation libraries\n",
    "import pandas as pd \n",
    "\n",
    "## vector database search\n",
    "from qdrant_client import models, QdrantClient\n",
    "\n",
    "## vector computing framework\n",
    "from sentence_transformers import SentenceTransformer\n",
    "\n",
    "# tensor computation library\n",
    "from torch import mps"
   ]
  },
  {
   "cell_type": "markdown",
   "metadata": {},
   "source": [
    "## Data Processing\n",
    "\n",
    "Load the data and remove null values."
   ]
  },
  {
   "cell_type": "code",
   "execution_count": 3,
   "metadata": {},
   "outputs": [],
   "source": [
    "## Load 'Covid Clinical Drug Trial Data' \n",
    "df = pd.read_csv('./data/coronavirus_clinical_trials.csv')"
   ]
  },
  {
   "cell_type": "code",
   "execution_count": 4,
   "metadata": {},
   "outputs": [
    {
     "name": "stdout",
     "output_type": "stream",
     "text": [
      "Unnamed: 0     0\n",
      "status         0\n",
      "phase         71\n",
      "sex            0\n",
      "age            0\n",
      "nct number     0\n",
      "inclusion      0\n",
      "exclusion      0\n",
      "enrollment     3\n",
      "dtype: int64\n"
     ]
    }
   ],
   "source": [
    "## Check if any of the cells are empty. Missing values cause errors in LLM. We will remove them before processing further\n",
    "# Count empty cells in each column\n",
    "print(df.isnull().sum())"
   ]
  },
  {
   "cell_type": "code",
   "execution_count": 5,
   "metadata": {},
   "outputs": [],
   "source": [
    "## remove missing valies as it creates create error in serialisation\n",
    "df = df[df['phase'].notna()]"
   ]
  },
  {
   "cell_type": "code",
   "execution_count": 6,
   "metadata": {},
   "outputs": [
    {
     "data": {
      "text/html": [
       "<div>\n",
       "<style scoped>\n",
       "    .dataframe tbody tr th:only-of-type {\n",
       "        vertical-align: middle;\n",
       "    }\n",
       "\n",
       "    .dataframe tbody tr th {\n",
       "        vertical-align: top;\n",
       "    }\n",
       "\n",
       "    .dataframe thead th {\n",
       "        text-align: right;\n",
       "    }\n",
       "</style>\n",
       "<table border=\"1\" class=\"dataframe\">\n",
       "  <thead>\n",
       "    <tr style=\"text-align: right;\">\n",
       "      <th></th>\n",
       "      <th>Unnamed: 0</th>\n",
       "      <th>enrollment</th>\n",
       "    </tr>\n",
       "  </thead>\n",
       "  <tbody>\n",
       "    <tr>\n",
       "      <th>count</th>\n",
       "      <td>131.000000</td>\n",
       "      <td>131.000000</td>\n",
       "    </tr>\n",
       "    <tr>\n",
       "      <th>mean</th>\n",
       "      <td>91.427481</td>\n",
       "      <td>753.618321</td>\n",
       "    </tr>\n",
       "    <tr>\n",
       "      <th>std</th>\n",
       "      <td>59.121652</td>\n",
       "      <td>3592.547045</td>\n",
       "    </tr>\n",
       "    <tr>\n",
       "      <th>min</th>\n",
       "      <td>0.000000</td>\n",
       "      <td>0.000000</td>\n",
       "    </tr>\n",
       "    <tr>\n",
       "      <th>25%</th>\n",
       "      <td>39.000000</td>\n",
       "      <td>48.500000</td>\n",
       "    </tr>\n",
       "    <tr>\n",
       "      <th>50%</th>\n",
       "      <td>87.000000</td>\n",
       "      <td>150.000000</td>\n",
       "    </tr>\n",
       "    <tr>\n",
       "      <th>75%</th>\n",
       "      <td>137.500000</td>\n",
       "      <td>440.000000</td>\n",
       "    </tr>\n",
       "    <tr>\n",
       "      <th>max</th>\n",
       "      <td>201.000000</td>\n",
       "      <td>40000.000000</td>\n",
       "    </tr>\n",
       "  </tbody>\n",
       "</table>\n",
       "</div>"
      ],
      "text/plain": [
       "       Unnamed: 0    enrollment\n",
       "count  131.000000    131.000000\n",
       "mean    91.427481    753.618321\n",
       "std     59.121652   3592.547045\n",
       "min      0.000000      0.000000\n",
       "25%     39.000000     48.500000\n",
       "50%     87.000000    150.000000\n",
       "75%    137.500000    440.000000\n",
       "max    201.000000  40000.000000"
      ]
     },
     "execution_count": 6,
     "metadata": {},
     "output_type": "execute_result"
    }
   ],
   "source": [
    "## dataset stats like total count and data field distributions (std/mean)\n",
    "df.describe()"
   ]
  },
  {
   "cell_type": "code",
   "execution_count": 7,
   "metadata": {},
   "outputs": [
    {
     "data": {
      "text/plain": [
       "{'Unnamed: 0': 1,\n",
       " 'status': 'Not yet recruiting',\n",
       " 'phase': 'Phase 2\\nPhase 3',\n",
       " 'sex': 'All',\n",
       " 'age': '18 Years to 75 Years   (Adult, Older Adult)',\n",
       " 'nct number': 'NCT04291053',\n",
       " 'inclusion': 'Mortality rate [\\xa0Time\\xa0Frame:\\xa0up to 28 days\\xa0]All cause mortality',\n",
       " 'exclusion': 'Clinical status assessed according to the official guideline [\\xa0Time\\xa0Frame:\\xa0up to 28 days\\xa0]1.mild type：no No symptoms, Imaging examination showed no signs of pneumonia; 2,moderate type: with fever or respiratory symptoms,Imaging examination showed signs of pneumonia, SpO2＞93% without oxygen inhalation ; severe type:Match any of the following：a. R≥30bpm；b.Pulse Oxygen Saturation(SpO2)≤93% without oxygen inhalation，c. PaO2/FiO2(fraction of inspired oxygen )≤300mmHg ；4. Critically type：match any of the follow: a. need mechanical ventilation; b. shock; c. (multiple organ dysfunction syndrome) MODS\\nThe differences in oxygen intake methods [\\xa0Time\\xa0Frame:\\xa0up to 28 days\\xa0]Pulse Oxygen Saturation(SpO2)＞93%，1. No need for supplemental oxygenation; 2. nasal catheter oxygen inhalation（oxygen concentration%,The oxygen flow rate：L/min）；3. Mask oxygen inhalation（oxygen concentration%,The oxygen flow rate：L/min）；4. Noninvasive ventilator oxygen supply（Ventilation mode,oxygen concentration%,The oxygen flow rate：L/min,）；5. Invasive ventilator oxygen supply（Ventilation mode,oxygen concentration%,The oxygen flow rate：L/min,）.\\nDuration (days) of supplemental oxygenation [\\xa0Time\\xa0Frame:\\xa0up to 28 days\\xa0]days\\nDuration (days) of mechanical ventilation [\\xa0Time\\xa0Frame:\\xa0up to 28 days\\xa0]days\\nThe mean PaO2/FiO2 [\\xa0Time\\xa0Frame:\\xa0up to 28 days\\xa0]\\nLength of hospital stay (days) [\\xa0Time\\xa0Frame:\\xa0up to 28 days\\xa0]days\\nLength of ICU stay (days) [\\xa0Time\\xa0Frame:\\xa0up to 28 days\\xa0]days\\nPulmonary function [\\xa0Time\\xa0Frame:\\xa0up to 3 months after discharge\\xa0]forced expiratory volume at one second ,maximum voluntary ventilation at 1month，2month，3month after discharge The differences in oxygen intake methods [\\xa0Time\\xa0Frame:\\xa0up to 28 days\\xa0]Pulse Oxygen Saturation(SpO2)＞93%，1. No need for supplemental oxygenation; 2. nasal catheter oxygen inhalation（oxygen concentration%,The oxygen flow rate：L/min）；3. Mask oxygen inhalation（oxygen concentration%,The oxygen flow rate：L/min）；4. Noninvasive ventilator oxygen supply（Ventilation mode,oxygen concentration%,The oxygen flow rate：L/min,）；5. Invasive ventilator oxygen supply（Ventilation mode,oxygen concentration%,The oxygen flow rate：L/min,）.\\nDuration (days) of supplemental oxygenation [\\xa0Time\\xa0Frame:\\xa0up to 28 days\\xa0]days\\nDuration (days) of mechanical ventilation [\\xa0Time\\xa0Frame:\\xa0up to 28 days\\xa0]days\\nThe mean PaO2/FiO2 [\\xa0Time\\xa0Frame:\\xa0up to 28 days\\xa0]\\nLength of hospital stay (days) [\\xa0Time\\xa0Frame:\\xa0up to 28 days\\xa0]days\\nLength of ICU stay (days) [\\xa0Time\\xa0Frame:\\xa0up to 28 days\\xa0]days\\nPulmonary function [\\xa0Time\\xa0Frame:\\xa0up to 3 months after discharge\\xa0]forced expiratory volume at one second ,maximum voluntary ventilation at 1month，2month，3month after discharge Duration (days) of supplemental oxygenation [\\xa0Time\\xa0Frame:\\xa0up to 28 days\\xa0]days\\nDuration (days) of mechanical ventilation [\\xa0Time\\xa0Frame:\\xa0up to 28 days\\xa0]days\\nThe mean PaO2/FiO2 [\\xa0Time\\xa0Frame:\\xa0up to 28 days\\xa0]\\nLength of hospital stay (days) [\\xa0Time\\xa0Frame:\\xa0up to 28 days\\xa0]days\\nLength of ICU stay (days) [\\xa0Time\\xa0Frame:\\xa0up to 28 days\\xa0]days\\nPulmonary function [\\xa0Time\\xa0Frame:\\xa0up to 3 months after discharge\\xa0]forced expiratory volume at one second ,maximum voluntary ventilation at 1month，2month，3month after discharge Duration (days) of mechanical ventilation [\\xa0Time\\xa0Frame:\\xa0up to 28 days\\xa0]days\\nThe mean PaO2/FiO2 [\\xa0Time\\xa0Frame:\\xa0up to 28 days\\xa0]\\nLength of hospital stay (days) [\\xa0Time\\xa0Frame:\\xa0up to 28 days\\xa0]days\\nLength of ICU stay (days) [\\xa0Time\\xa0Frame:\\xa0up to 28 days\\xa0]days\\nPulmonary function [\\xa0Time\\xa0Frame:\\xa0up to 3 months after discharge\\xa0]forced expiratory volume at one second ,maximum voluntary ventilation at 1month，2month，3month after discharge The mean PaO2/FiO2 [\\xa0Time\\xa0Frame:\\xa0up to 28 days\\xa0]\\nLength of hospital stay (days) [\\xa0Time\\xa0Frame:\\xa0up to 28 days\\xa0]days\\nLength of ICU stay (days) [\\xa0Time\\xa0Frame:\\xa0up to 28 days\\xa0]days\\nPulmonary function [\\xa0Time\\xa0Frame:\\xa0up to 3 months after discharge\\xa0]forced expiratory volume at one second ,maximum voluntary ventilation at 1month，2month，3month after discharge Length of hospital stay (days) [\\xa0Time\\xa0Frame:\\xa0up to 28 days\\xa0]days\\nLength of ICU stay (days) [\\xa0Time\\xa0Frame:\\xa0up to 28 days\\xa0]days\\nPulmonary function [\\xa0Time\\xa0Frame:\\xa0up to 3 months after discharge\\xa0]forced expiratory volume at one second ,maximum voluntary ventilation at 1month，2month，3month after discharge Length of ICU stay (days) [\\xa0Time\\xa0Frame:\\xa0up to 28 days\\xa0]days\\nPulmonary function [\\xa0Time\\xa0Frame:\\xa0up to 3 months after discharge\\xa0]forced expiratory volume at one second ,maximum voluntary ventilation at 1month，2month，3month after discharge Pulmonary function [\\xa0Time\\xa0Frame:\\xa0up to 3 months after discharge\\xa0]forced expiratory volume at one second ,maximum voluntary ventilation at 1month，2month，3month after discharge',\n",
       " 'enrollment': 550.0}"
      ]
     },
     "execution_count": 7,
     "metadata": {},
     "output_type": "execute_result"
    }
   ],
   "source": [
    "## Maps data fields to the format needed for vectorisation\n",
    "data = df.to_dict('records')\n",
    "data[1]"
   ]
  },
  {
   "cell_type": "markdown",
   "metadata": {},
   "source": [
    "## Process Embeddings \n",
    "Embeddings are representation of the text data (in our case the wine csv file) as vectors in a high-dimentional space. We use embeddings to be able to complare the simarify between sentences. Vectors allow us to represent the text in matematical terms. In this notebook, I use cosine similarify that allows to compute and measure the cosine of the angle between two vectors, effectively quantifying how similar two sentences regardless of their lenght. "
   ]
  },
  {
   "cell_type": "code",
   "execution_count": 8,
   "metadata": {},
   "outputs": [],
   "source": [
    "## encode using the 'all-MiniLM-L6-v2' model. \n",
    "encoder = SentenceTransformer('all-MiniLM-L6-v2') # model: download ML model locally\n",
    "\n",
    "## database to store the vectors. Since the data is in a small size, we can store the data in memory. \n",
    "qdrant = QdrantClient(\":memory:\")"
   ]
  },
  {
   "cell_type": "code",
   "execution_count": 9,
   "metadata": {},
   "outputs": [
    {
     "data": {
      "text/plain": [
       "True"
      ]
     },
     "execution_count": 9,
     "metadata": {},
     "output_type": "execute_result"
    }
   ],
   "source": [
    "# create a collection that will be stored in the database. The collection stored the params \n",
    "# size: takes the size from the input data\n",
    "# distance function: cosine\n",
    "\n",
    "qdrant.recreate_collection(\n",
    "    collection_name = \"covid_ct\",\n",
    "    vectors_config = models.VectorParams(\n",
    "        size = encoder.get_sentence_embedding_dimension(),\n",
    "        distance = models.Distance.COSINE\n",
    "    )\n",
    ")"
   ]
  },
  {
   "cell_type": "code",
   "execution_count": 10,
   "metadata": {},
   "outputs": [],
   "source": [
    "# creates an index and uploads all the data into the in-memory database\n",
    "# payload holds the metadata \n",
    "qdrant.upload_points(\n",
    "    collection_name = \"covid_ct\",\n",
    "    points = [\n",
    "        models.PointStruct(\n",
    "            id = idx,\n",
    "            vector = encoder.encode(doc['exclusion']).tolist(),\n",
    "            payload = doc\n",
    "        ) \n",
    "        for idx, doc in enumerate(data)\n",
    "    ]\n",
    ")"
   ]
  },
  {
   "cell_type": "markdown",
   "metadata": {},
   "source": [
    "## Search with given input text\n",
    "\n",
    "Let's search! The answer is hidden in the includion/exclusion criteria free text data field. "
   ]
  },
  {
   "cell_type": "code",
   "execution_count": 11,
   "metadata": {},
   "outputs": [
    {
     "name": "stdout",
     "output_type": "stream",
     "text": [
      "{'Unnamed: 0': 200, 'status': 'Recruiting', 'phase': 'Phase 3', 'sex': 'All', 'age': '18 Years and older   (Adult, Older Adult)', 'nct number': 'NCT04308668', 'inclusion': 'To test if post-exposure prophylaxis with hydroxychloroquine can prevent progression development of symptomatic COVID19 disease after known exposure to the SARS-CoV2 virus. To test if preemptive therapy with hydroxychloroquine can prevent progression of persons with known symptomatic COVID19 disease, preventing hospitalization.', 'exclusion': 'Incidence of COVID19 Disease among those who are asymptomatic at trial entry [\\xa0Time\\xa0Frame:\\xa014 days\\xa0]Number of participants at 14 days post enrollment with active COVID19 disease.\\nOrdinal Scale of COVID19 Disease Severity at 14 days among those who are symptomatic at trial entry [\\xa0Time\\xa0Frame:\\xa014 days\\xa0]Participants will self-report disease severity status as one of the following 3 options; no COVID19 illness (score of 1), COVID19 illness with no hospitalization (score of 2), or COVID19 illness with hospitalization or death (score of 3). Increased scale score indicates greater disease severity. Outcome is reported as the percent of participants who fall into each category per arm. Ordinal Scale of COVID19 Disease Severity at 14 days among those who are symptomatic at trial entry [\\xa0Time\\xa0Frame:\\xa014 days\\xa0]Participants will self-report disease severity status as one of the following 3 options; no COVID19 illness (score of 1), COVID19 illness with no hospitalization (score of 2), or COVID19 illness with hospitalization or death (score of 3). Increased scale score indicates greater disease severity. Outcome is reported as the percent of participants who fall into each category per arm.', 'enrollment': 3000.0} score: 0.6049826441620075\n",
      "{'Unnamed: 0': 175, 'status': 'Completed', 'phase': 'Phase 3', 'sex': 'All', 'age': '18 Years and older   (Adult, Older Adult)', 'nct number': 'NCT04261517', 'inclusion': 'The virological clearance rate of throat swabs, sputum, or lower respiratory tract secretions at day 3 [\\xa0Time\\xa0Frame:\\xa03 days after randomization\\xa0]\\nThe virological clearance rate of throat swabs, sputum, or lower respiratory tract secretions at day 5 [\\xa0Time\\xa0Frame:\\xa05 days after randomization\\xa0]\\nThe virological clearance rate of throat swabs, sputum, or lower respiratory tract secretions at day 7 [\\xa0Time\\xa0Frame:\\xa07 days after randomization\\xa0]\\nThe mortality rate of subjects at weeks 2 [\\xa0Time\\xa0Frame:\\xa014 days after randomization\\xa0] The virological clearance rate of throat swabs, sputum, or lower respiratory tract secretions at day 5 [\\xa0Time\\xa0Frame:\\xa05 days after randomization\\xa0]\\nThe virological clearance rate of throat swabs, sputum, or lower respiratory tract secretions at day 7 [\\xa0Time\\xa0Frame:\\xa07 days after randomization\\xa0]\\nThe mortality rate of subjects at weeks 2 [\\xa0Time\\xa0Frame:\\xa014 days after randomization\\xa0] The virological clearance rate of throat swabs, sputum, or lower respiratory tract secretions at day 7 [\\xa0Time\\xa0Frame:\\xa07 days after randomization\\xa0]\\nThe mortality rate of subjects at weeks 2 [\\xa0Time\\xa0Frame:\\xa014 days after randomization\\xa0] The mortality rate of subjects at weeks 2 [\\xa0Time\\xa0Frame:\\xa014 days after randomization\\xa0]', 'exclusion': \"Number of participants with treatment-related adverse events as assessed by CTCAE v5.0 [\\xa0Time\\xa0Frame:\\xa014 days after randomization\\xa0]\\nThe critical illness rate of subjects at weeks 2 [\\xa0Time\\xa0Frame:\\xa014 days after randomization\\xa0]The diagnosis of critical illness case was based on the notice on printing and distributing the diagnosis and treatment plan of pneumonia with new coronavirus infection (trial version 4) made by National Health Commission of the People's Republic of China. The critical illness rate of subjects at weeks 2 [\\xa0Time\\xa0Frame:\\xa014 days after randomization\\xa0]The diagnosis of critical illness case was based on the notice on printing and distributing the diagnosis and treatment plan of pneumonia with new coronavirus infection (trial version 4) made by National Health Commission of the People's Republic of China.\", 'enrollment': 30.0} score: 0.5317406098025044\n",
      "{'Unnamed: 0': 99, 'status': 'Not yet recruiting', 'phase': 'Phase 2', 'sex': 'All', 'age': '18 Years and older   (Adult, Older Adult)', 'nct number': 'NCT04323800', 'inclusion': 'Cumulative incidence of composite outcome of disease severity [\\xa0Time\\xa0Frame:\\xa0Day 28\\xa0]The cumulative incidence of composite outcome of disease severity will be used in assessing the efficacy of treatment with high-titer Anti- SARS-CoV-2 plasma versus control (SARS-CoV-2 non-immune plasma) in subjects exposed to COVID-19. This will be determined with the presence or occurrence of at least one of the following:\\n\\nDeath\\nRequiring mechanical ventilation and/or in ICU\\nnon-ICU hospitalization, requiring supplemental oxygen;\\nnon-ICU hospitalization, not requiring supplemental oxygen;\\nNot hospitalized, but with clinical and laboratory evidence of COVID-19 infection\\nNot hospitalized, no clinical evidence of COVID-19 infection, but with positive PCR for SARS-CoV-2 Death Requiring mechanical ventilation and/or in ICU non-ICU hospitalization, requiring supplemental oxygen; non-ICU hospitalization, not requiring supplemental oxygen; Not hospitalized, but with clinical and laboratory evidence of COVID-19 infection Not hospitalized, no clinical evidence of COVID-19 infection, but with positive PCR for SARS-CoV-2', 'exclusion': 'Death Requiring mechanical ventilation and/or in ICU non-ICU hospitalization, requiring supplemental oxygen; non-ICU hospitalization, not requiring supplemental oxygen; Not hospitalized, but with clinical and laboratory evidence of COVID-19 infection Not hospitalized, no clinical evidence of COVID-19 infection, but with positive PCR for SARS-CoV-2', 'enrollment': 150.0} score: 0.5290396266027374\n",
      "{'Unnamed: 0': 38, 'status': 'Recruiting', 'phase': 'Phase 2', 'sex': 'All', 'age': '18 Years to 80 Years   (Adult, Older Adult)', 'nct number': 'NCT04280588', 'inclusion': 'The change of pneumonia severity on X-ray images [\\xa0Time\\xa0Frame:\\xa05 day after fingolimod treatment\\xa0]The lesion change on X-ray images from day 5 to baseline', 'exclusion': 'The patients who were diagnosed with the common type of NCP (including severe risk factors) and severe cases of new coronavirus pneumonia; Aged 18 to 85 years; Patients or authorized family members volunteered to participate in this study and signed informed consent.', 'enrollment': 30.0} score: 0.5175442915861133\n",
      "{'Unnamed: 0': 81, 'status': 'Not yet recruiting', 'phase': 'Not Applicable', 'sex': 'All', 'age': '60 Years and older   (Adult, Older Adult)', 'nct number': 'NCT04321928', 'inclusion': 'Primary composite rate of intensive care unit (ICU) admission, 48 hours of hospital admission, death in COVID-19 positive cases [\\xa0Time\\xa0Frame:\\xa012 months\\xa0]The primary endpoint will be the composite of the rate of the followings in COVID-19 positive cases (verified by an accredited laboratory): the number of pariticipants with ICU (intensive care unit) admission; 48 hours of hospitalisation and/or death.\\n48 hours of hospitalisation for the following reasons: (I) arrhythmia (causing hemodynamic instability and requiring continuous monitoring and/or cardiac support, as indicated by mean arterial pressure <65 mm Hg, and/or serum lactate >2 mmol/L) and/or (II) Acute Respiratory Distress Syndrome (ARDS): severe hypoxaemic respiratory failure indicated by a Partial Pressure of Oxygen (PaO2)/Fraction of inspired oxygen (FiO2) <300 mmHg according to the Berlin definition and/or (III) circulatory shock (the requirement of continuous vasopressor support to maintain mean arterial pressure <65 mmHg and/or serum lactate >2 mmol/L)', 'exclusion': 'The number of general practitioner visits [\\xa0Time\\xa0Frame:\\xa012 months\\xa0]The number of participants, who required general practitioner visit assessed by the investigator.\\nThe number of emergency, hospital admission and intensive care admission [\\xa0Time\\xa0Frame:\\xa012 months\\xa0]The number of participants, who required the admission to each type of level of care assessed by the investigator.\\nLength of hospitalization and intensive care unit stay [\\xa0Time\\xa0Frame:\\xa012 months\\xa0]The time spent in hospital and on the intensive care unit in days collected at the end of the trial from medical records.\\nOrgan dysfunction [\\xa0Time\\xa0Frame:\\xa012 months\\xa0]The number of cases, where the organ dysfunction (central nervous system, cardiovascular, respiratory, renal, liver, hematological) was present, measured daily during the hospital stay , assessed by the physician at the hospital/ICU.\\nLifestyle changes [\\xa0Time\\xa0Frame:\\xa012 months\\xa0]The reached changes in lifestyle including mental and physical status will be assessed by a questionnaire.\\nThe questions related to the coronavirus epidemic in will cover in 3 fields: concerns for self, concerns for family, feeling of being overwhelmed on account of news on the epidemic. The answers can be given by a scale ranging from 1-10 points. Higher score indicates greater level of distress.\\nOne question assessess the subjective feeling of being supported, where yes indicates adequate feeling of support and no indicates feeling of being unsupported and/or lonely.\\nThe cost of care [\\xa0Time\\xa0Frame:\\xa012 months\\xa0]The financial demand of the treatment of COVID-19 infection spent on each patient will be calculated by a healthcare economist after the trial is completed. The number of emergency, hospital admission and intensive care admission [\\xa0Time\\xa0Frame:\\xa012 months\\xa0]The number of participants, who required the admission to each type of level of care assessed by the investigator.\\nLength of hospitalization and intensive care unit stay [\\xa0Time\\xa0Frame:\\xa012 months\\xa0]The time spent in hospital and on the intensive care unit in days collected at the end of the trial from medical records.\\nOrgan dysfunction [\\xa0Time\\xa0Frame:\\xa012 months\\xa0]The number of cases, where the organ dysfunction (central nervous system, cardiovascular, respiratory, renal, liver, hematological) was present, measured daily during the hospital stay , assessed by the physician at the hospital/ICU.\\nLifestyle changes [\\xa0Time\\xa0Frame:\\xa012 months\\xa0]The reached changes in lifestyle including mental and physical status will be assessed by a questionnaire.\\nThe questions related to the coronavirus epidemic in will cover in 3 fields: concerns for self, concerns for family, feeling of being overwhelmed on account of news on the epidemic. The answers can be given by a scale ranging from 1-10 points. Higher score indicates greater level of distress.\\nOne question assessess the subjective feeling of being supported, where yes indicates adequate feeling of support and no indicates feeling of being unsupported and/or lonely.\\nThe cost of care [\\xa0Time\\xa0Frame:\\xa012 months\\xa0]The financial demand of the treatment of COVID-19 infection spent on each patient will be calculated by a healthcare economist after the trial is completed. Length of hospitalization and intensive care unit stay [\\xa0Time\\xa0Frame:\\xa012 months\\xa0]The time spent in hospital and on the intensive care unit in days collected at the end of the trial from medical records.\\nOrgan dysfunction [\\xa0Time\\xa0Frame:\\xa012 months\\xa0]The number of cases, where the organ dysfunction (central nervous system, cardiovascular, respiratory, renal, liver, hematological) was present, measured daily during the hospital stay , assessed by the physician at the hospital/ICU.\\nLifestyle changes [\\xa0Time\\xa0Frame:\\xa012 months\\xa0]The reached changes in lifestyle including mental and physical status will be assessed by a questionnaire.\\nThe questions related to the coronavirus epidemic in will cover in 3 fields: concerns for self, concerns for family, feeling of being overwhelmed on account of news on the epidemic. The answers can be given by a scale ranging from 1-10 points. Higher score indicates greater level of distress.\\nOne question assessess the subjective feeling of being supported, where yes indicates adequate feeling of support and no indicates feeling of being unsupported and/or lonely.\\nThe cost of care [\\xa0Time\\xa0Frame:\\xa012 months\\xa0]The financial demand of the treatment of COVID-19 infection spent on each patient will be calculated by a healthcare economist after the trial is completed. Organ dysfunction [\\xa0Time\\xa0Frame:\\xa012 months\\xa0]The number of cases, where the organ dysfunction (central nervous system, cardiovascular, respiratory, renal, liver, hematological) was present, measured daily during the hospital stay , assessed by the physician at the hospital/ICU.\\nLifestyle changes [\\xa0Time\\xa0Frame:\\xa012 months\\xa0]The reached changes in lifestyle including mental and physical status will be assessed by a questionnaire.\\nThe questions related to the coronavirus epidemic in will cover in 3 fields: concerns for self, concerns for family, feeling of being overwhelmed on account of news on the epidemic. The answers can be given by a scale ranging from 1-10 points. Higher score indicates greater level of distress.\\nOne question assessess the subjective feeling of being supported, where yes indicates adequate feeling of support and no indicates feeling of being unsupported and/or lonely.\\nThe cost of care [\\xa0Time\\xa0Frame:\\xa012 months\\xa0]The financial demand of the treatment of COVID-19 infection spent on each patient will be calculated by a healthcare economist after the trial is completed. Lifestyle changes [\\xa0Time\\xa0Frame:\\xa012 months\\xa0]The reached changes in lifestyle including mental and physical status will be assessed by a questionnaire.\\nThe questions related to the coronavirus epidemic in will cover in 3 fields: concerns for self, concerns for family, feeling of being overwhelmed on account of news on the epidemic. The answers can be given by a scale ranging from 1-10 points. Higher score indicates greater level of distress.\\nOne question assessess the subjective feeling of being supported, where yes indicates adequate feeling of support and no indicates feeling of being unsupported and/or lonely.\\nThe cost of care [\\xa0Time\\xa0Frame:\\xa012 months\\xa0]The financial demand of the treatment of COVID-19 infection spent on each patient will be calculated by a healthcare economist after the trial is completed. The cost of care [\\xa0Time\\xa0Frame:\\xa012 months\\xa0]The financial demand of the treatment of COVID-19 infection spent on each patient will be calculated by a healthcare economist after the trial is completed.', 'enrollment': 7576.0} score: 0.49881443359828015\n"
     ]
    }
   ],
   "source": [
    "user_prompt = \"What are the characterictics of suitable patients for covid trials\"\n",
    "hits = qdrant.search(\n",
    "    collection_name = \"covid_ct\",\n",
    "    query_vector = encoder.encode(user_prompt).tolist(),\n",
    "    limit = 5\n",
    ")\n",
    "for hit in hits:\n",
    "    print(hit.payload, \"score:\", hit.score)"
   ]
  },
  {
   "cell_type": "code",
   "execution_count": 12,
   "metadata": {},
   "outputs": [],
   "source": [
    "search_result = [hit.payload for hit in hits]"
   ]
  },
  {
   "cell_type": "markdown",
   "metadata": {},
   "source": [
    "Please note that you will need OpenAI token to run the next cell. "
   ]
  },
  {
   "cell_type": "code",
   "execution_count": null,
   "metadata": {},
   "outputs": [],
   "source": [
    "## Connect to LLM from OpenAI \n",
    "from openai import OpenAI\n",
    "\n",
    "client = OpenAI(\n",
    "    base_url = \"http://127.0.0.1:8080/v1\",\n",
    "    api_key = \"sk_no_key_required\"\n",
    ")\n",
    "completion = client.chat.completions.create(\n",
    "    model = \"LLaMA_CPP\",\n",
    "    messages = [\n",
    "        {\"role\": \"system\", \"content\": \"Covid 19 Clinical Trial Assistant\"},\n",
    "        {\"role\": \"user\", \"content\": \"What are the characterictics of suitable patients for covid trials?\"},\n",
    "        {\"role\": \"assistant\", \"content\": str(search_result)}\n",
    "    ]\n",
    ")"
   ]
  }
 ],
 "metadata": {
  "kernelspec": {
   "display_name": "Python 3",
   "language": "python",
   "name": "python3"
  },
  "language_info": {
   "codemirror_mode": {
    "name": "ipython",
    "version": 3
   },
   "file_extension": ".py",
   "mimetype": "text/x-python",
   "name": "python",
   "nbconvert_exporter": "python",
   "pygments_lexer": "ipython3",
   "version": "3.9.1"
  }
 },
 "nbformat": 4,
 "nbformat_minor": 2
}
